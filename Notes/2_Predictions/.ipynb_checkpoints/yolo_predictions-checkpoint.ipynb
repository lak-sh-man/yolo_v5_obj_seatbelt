{
 "cells": [
  {
   "cell_type": "code",
   "execution_count": 1,
   "id": "54227c97-f373-4e66-918b-6ee09f487ca0",
   "metadata": {},
   "outputs": [],
   "source": [
    "import cv2\n",
    "import numpy as np\n",
    "import os\n",
    "import yaml\n",
    "from yaml.loader import SafeLoader"
   ]
  },
  {
   "cell_type": "code",
   "execution_count": 2,
   "id": "f779f3de-6280-42dd-9000-50e120535e33",
   "metadata": {},
   "outputs": [
    {
     "name": "stdout",
     "output_type": "stream",
     "text": [
      "['With Seatbelt', 'Without Seatbelt']\n"
     ]
    }
   ],
   "source": [
    "# load YAML\n",
    "with open('data.yaml',mode='r') as f:\n",
    "    data_yaml = yaml.load(f,Loader=SafeLoader)\n",
    "    \n",
    "labels = data_yaml['names']\n",
    "print(labels)"
   ]
  },
  {
   "cell_type": "code",
   "execution_count": 3,
   "id": "fabf99dc-f440-4336-b6ac-d1665b8b4934",
   "metadata": {},
   "outputs": [],
   "source": [
    "# load YOLO model\n",
    "yolo = cv2.dnn.readNetFromONNX('./Model/weights/best.onnx')\n",
    "yolo.setPreferableBackend(cv2.dnn.DNN_BACKEND_OPENCV)\n",
    "yolo.setPreferableTarget(cv2.dnn.DNN_TARGET_CPU)"
   ]
  },
  {
   "cell_type": "code",
   "execution_count": 4,
   "id": "84b66e36-aebe-4b6f-a649-3c21c0bcd994",
   "metadata": {},
   "outputs": [],
   "source": [
    "# load the image\n",
    "img = cv2.imread('./seatbelt_image.jpg')\n",
    "image = img.copy()\n",
    "row, col, d = image.shape\n",
    "# get the YOLO prediction from the the image\n",
    "# step-1 convert image into square image (array)\n",
    "max_rc = max(row,col)\n",
    "input_image = np.zeros((max_rc,max_rc,3),dtype=np.uint8)\n",
    "input_image[0:row,0:col] = image\n",
    "# step-2: get prediction from square array\n",
    "INPUT_WH_YOLO = 640\n",
    "blob = cv2.dnn.blobFromImage(input_image,1/255,(INPUT_WH_YOLO,INPUT_WH_YOLO),swapRB=True,crop=False)\n",
    "yolo.setInput(blob) #This prepares the preprocessed image as input for the YOLO model\n",
    "preds = yolo.forward() # The preds variable holds the results of the YOLO object detection"
   ]
  },
  {
   "cell_type": "code",
   "execution_count": 5,
   "id": "5c9f20b8-248a-435e-90e0-f3629715f063",
   "metadata": {},
   "outputs": [
    {
     "name": "stdout",
     "output_type": "stream",
     "text": [
      "[[[5.5560255e+00 3.3111753e+00 2.0493080e+01 ... 9.1162237e-06\n",
      "   3.8480845e-01 3.0043557e-01]\n",
      "  [1.5213371e+01 2.6439528e+00 2.2859310e+01 ... 5.8002156e-06\n",
      "   3.9648074e-01 3.1483743e-01]\n",
      "  [2.3222349e+01 1.0990472e+00 2.1042885e+01 ... 3.9197075e-06\n",
      "   3.3302274e-01 2.2476424e-01]\n",
      "  ...\n",
      "  [5.6068115e+02 5.9972040e+02 1.8505331e+02 ... 1.0624054e-05\n",
      "   8.3602911e-01 1.2719403e-01]\n",
      "  [5.8225024e+02 5.9856262e+02 1.4441396e+02 ... 6.4650162e-06\n",
      "   7.9010451e-01 1.4706683e-01]\n",
      "  [6.1426544e+02 6.0805402e+02 1.6212148e+02 ... 1.4479406e-06\n",
      "   7.9402441e-01 1.3288845e-01]]]\n",
      "(1, 25200, 7)\n"
     ]
    }
   ],
   "source": [
    "print(preds) #Prints a three dimensional array\n",
    "print(preds.shape)"
   ]
  },
  {
   "cell_type": "code",
   "execution_count": 6,
   "id": "b95a4379-5203-4537-8f81-cae8c626ac08",
   "metadata": {},
   "outputs": [],
   "source": [
    "# Non Maximum Supression\n",
    "# step-1: filter detection based on confidence (0.4) and probability score (0.25)\n",
    "detections = preds[0]\n",
    "boxes = []\n",
    "confidences = []\n",
    "classes = []\n",
    "\n",
    "# widht and height of the image (input_image)\n",
    "image_w, image_h = input_image.shape[:2]\n",
    "x_factor = image_w/INPUT_WH_YOLO\n",
    "y_factor = image_h/INPUT_WH_YOLO\n",
    "\n",
    "for i in range(len(detections)):\n",
    "    row = detections[i]\n",
    "    confidence = row[4] # confidence of detection an object\n",
    "    if confidence > 0.4:\n",
    "        class_score = row[5:].max() # maximum probability from 20 objects\n",
    "        class_id = row[5:].argmax() # get the index position at which max probabilty occur\n",
    "        \n",
    "        if class_score > 0.25:\n",
    "            cx, cy, w, h = row[0:4]\n",
    "            # construct bounding from four values\n",
    "            # left, top, width and height\n",
    "            left = int((cx - 0.5*w)*x_factor)\n",
    "            top = int((cy - 0.5*h)*y_factor)\n",
    "            width = int(w*x_factor)\n",
    "            height = int(h*y_factor)\n",
    "            \n",
    "            box = np.array([left,top,width,height])\n",
    "            \n",
    "            # append values into the list\n",
    "            confidences.append(confidence)\n",
    "            boxes.append(box)\n",
    "            classes.append(class_id)\n",
    "            \n",
    "# clean\n",
    "boxes_np = np.array(boxes).tolist()\n",
    "confidences_np = np.array(confidences).tolist()\n",
    "\n",
    "# NMS\n",
    "index = np.array(cv2.dnn.NMSBoxes(boxes_np,confidences_np,0.25,0.45)).flatten()"
   ]
  },
  {
   "cell_type": "code",
   "execution_count": 7,
   "id": "2584bcbd-4aa7-4ae8-89b1-855326bf0263",
   "metadata": {},
   "outputs": [
    {
     "data": {
      "text/plain": [
       "2"
      ]
     },
     "execution_count": 7,
     "metadata": {},
     "output_type": "execute_result"
    }
   ],
   "source": [
    "len(index)"
   ]
  },
  {
   "cell_type": "code",
   "execution_count": 8,
   "id": "12f754d9-6a7c-4c66-8e78-c17fd7fa61dc",
   "metadata": {},
   "outputs": [],
   "source": [
    "# Draw the Bounding\n",
    "for ind in index:\n",
    "    # extract bounding box\n",
    "    x,y,w,h = boxes_np[ind]\n",
    "    bb_conf = int(confidences_np[ind]*100)\n",
    "    classes_id = classes[ind]\n",
    "    class_name = labels[classes_id]\n",
    "    \n",
    "    text = f'{class_name}: {bb_conf}%'\n",
    "\n",
    "    cv2.rectangle(image,(x,y),(x+w,y+h),(0,255,0),2)\n",
    "    cv2.rectangle(image,(x,y-30),(x+w,y),(255,255,255),-1)\n",
    "    \n",
    "    cv2.putText(image,text,(x,y-10),cv2.FONT_HERSHEY_PLAIN,0.7,(0,0,0),1)"
   ]
  },
  {
   "cell_type": "code",
   "execution_count": 9,
   "id": "b5ce466d-eaa0-49aa-96c5-e418170783ba",
   "metadata": {},
   "outputs": [],
   "source": [
    "cv2.imshow('original',img)\n",
    "cv2.imshow('yolo_prediction',image)\n",
    "cv2.waitKey(0)\n",
    "cv2.destroyAllWindows()"
   ]
  },
  {
   "cell_type": "code",
   "execution_count": null,
   "id": "9d5b03c0-578b-47f6-adec-d226168f4f9c",
   "metadata": {},
   "outputs": [],
   "source": []
  }
 ],
 "metadata": {
  "kernelspec": {
   "display_name": "Python 3 (ipykernel)",
   "language": "python",
   "name": "python3"
  },
  "language_info": {
   "codemirror_mode": {
    "name": "ipython",
    "version": 3
   },
   "file_extension": ".py",
   "mimetype": "text/x-python",
   "name": "python",
   "nbconvert_exporter": "python",
   "pygments_lexer": "ipython3",
   "version": "3.9.6"
  }
 },
 "nbformat": 4,
 "nbformat_minor": 5
}
