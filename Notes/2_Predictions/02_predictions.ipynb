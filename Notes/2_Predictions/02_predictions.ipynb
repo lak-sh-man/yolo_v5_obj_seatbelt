{
 "cells": [
  {
   "cell_type": "code",
   "execution_count": 7,
   "id": "eb963325-9ed3-498b-a1b3-89f4b79160ec",
   "metadata": {},
   "outputs": [],
   "source": [
    "import cv2\n",
    "from yolo_predictions import YOLO_Pred"
   ]
  },
  {
   "cell_type": "code",
   "execution_count": 8,
   "id": "92d6cf50-1a72-4f35-b451-73effc4a14d7",
   "metadata": {},
   "outputs": [],
   "source": [
    "yolo = YOLO_Pred('./Model/weights/best.onnx', 'data.yaml')"
   ]
  },
  {
   "cell_type": "code",
   "execution_count": 9,
   "id": "3d0cd6d5-e864-4da7-ad30-c8f2a2a7fed9",
   "metadata": {},
   "outputs": [],
   "source": [
    "img = cv2.imread('./laksh.png')\n",
    "\n",
    "cv2.imshow('img', img)\n",
    "cv2.waitKey(0)\n",
    "cv2.destroyAllWindows()"
   ]
  },
  {
   "cell_type": "code",
   "execution_count": 10,
   "id": "5c23e0ed-61ed-4dcb-bd30-ca48f6164ec7",
   "metadata": {},
   "outputs": [],
   "source": [
    "# predictions\n",
    "img_pred = yolo.predictions(img)"
   ]
  },
  {
   "cell_type": "code",
   "execution_count": 11,
   "id": "b83d96d4-269d-43cc-9bf0-387af10f8e9c",
   "metadata": {},
   "outputs": [],
   "source": [
    "cv2.imshow('prediction image', img_pred)\n",
    "cv2.waitKey(0)\n",
    "cv2.destroyAllWindows()"
   ]
  },
  {
   "cell_type": "code",
   "execution_count": 12,
   "id": "5d4162d7-b267-41a1-b7df-494f18a153f8",
   "metadata": {},
   "outputs": [
    {
     "name": "stdout",
     "output_type": "stream",
     "text": [
      "With Seatbelt: 1\n",
      "Without Seatbelt: 0\n"
     ]
    }
   ],
   "source": [
    "yolo.display_class_count()"
   ]
  },
  {
   "cell_type": "markdown",
   "id": "865bafa5-2aa3-49ed-bdef-c22a53da1854",
   "metadata": {},
   "source": [
    "## Real time object detection"
   ]
  },
  {
   "cell_type": "code",
   "execution_count": 7,
   "id": "cbb02a15-d279-4197-a2e4-d9947835495e",
   "metadata": {},
   "outputs": [],
   "source": [
    "cap = cv2.VideoCapture('video.mp4')\n",
    "\n",
    "while True:\n",
    "    ret, frame = cap.read()\n",
    "    if ret == False:\n",
    "        print('Unable to read video')\n",
    "        break\n",
    "\n",
    "    pred_image = yolo.predictions(frame)\n",
    "    cv2.imshow('YOLO', pred_image)\n",
    "    if cv2.waitKey(1) == 27:\n",
    "        break\n",
    "\n",
    "cv2.destroyAllWindows()\n",
    "cap.release()"
   ]
  },
  {
   "cell_type": "code",
   "execution_count": null,
   "id": "debc60cf-c0a1-460a-8127-71c7db305ff4",
   "metadata": {},
   "outputs": [],
   "source": []
  }
 ],
 "metadata": {
  "kernelspec": {
   "display_name": "Python 3 (ipykernel)",
   "language": "python",
   "name": "python3"
  },
  "language_info": {
   "codemirror_mode": {
    "name": "ipython",
    "version": 3
   },
   "file_extension": ".py",
   "mimetype": "text/x-python",
   "name": "python",
   "nbconvert_exporter": "python",
   "pygments_lexer": "ipython3",
   "version": "3.9.6"
  }
 },
 "nbformat": 4,
 "nbformat_minor": 5
}
